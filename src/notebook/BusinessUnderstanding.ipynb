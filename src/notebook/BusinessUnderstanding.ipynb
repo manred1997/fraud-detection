{
 "cells": [
  {
   "cell_type": "markdown",
   "metadata": {},
   "source": [
    "#### A. Technical Questions\n",
    "    #TODO\n",
    "#### B. Business Questions\n",
    "    #TODO"
   ]
  },
  {
   "cell_type": "markdown",
   "metadata": {},
   "source": [
    "#### Summarize:\n",
    "- Goal: Build a fraud detection API that can be called to predict whether or not a transaction is fraudulent.\n",
    "\n",
    "- Dataset is available at [here](https://www.kaggle.com/datasets/bannourchaker/frauddetection)"
   ]
  },
  {
   "cell_type": "markdown",
   "metadata": {},
   "source": [
    "* Request body: \n",
    "```json\n",
    "{\n",
    "    \"step\":1,\n",
    "    \"type\":\"PAYMENT\",\n",
    "    \"amount\":9839.64,\n",
    "    \"nameOrig\":\"C1231006815\",\n",
    "    \"oldbalanceOrig\":170136.0,\n",
    "    \"newbalanceOrig\":160296.36,\n",
    "    \"nameDest\":\"M1979787155\",\n",
    "    \"oldbalanceDest\":0.0,\n",
    "    \"newbalanceDest\":0.0\n",
    "}\n",
    "```\n",
    "\n",
    "* Response:\n",
    "```json\n",
    "{\n",
    "    \"isFraud\": true\n",
    "}\n",
    "```"
   ]
  },
  {
   "cell_type": "markdown",
   "metadata": {},
   "source": [
    "- Assumtion: Previous API calls are to be stored in order to engineer features relevant to finding fraud. "
   ]
  },
  {
   "cell_type": "markdown",
   "metadata": {},
   "source": [
    "#### Expectaion:\n",
    "\n",
    "- Deploy REST API\n",
    "\n",
    "- High scores for metrics:\n",
    "\n",
    "    + F beta score\n",
    "    + ROC AUC score\n",
    "    + PR AUC score | Average precision"
   ]
  }
 ],
 "metadata": {
  "kernelspec": {
   "display_name": "Python 3.9.16 ('finance')",
   "language": "python",
   "name": "python3"
  },
  "language_info": {
   "name": "python",
   "version": "3.9.16"
  },
  "orig_nbformat": 4,
  "vscode": {
   "interpreter": {
    "hash": "95270ca9802dbafad0d27ff254db71be7c2849b6f5c7deda23685ddfb88d760b"
   }
  }
 },
 "nbformat": 4,
 "nbformat_minor": 2
}
